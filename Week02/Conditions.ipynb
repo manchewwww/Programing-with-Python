{
 "cells": [
  {
   "cell_type": "markdown",
   "metadata": {},
   "source": [
    "## Задача 1\n",
    "\n",
    "Създайте функция, която приема число, указващо брой секунди и го връща трансформирано в наредена тройка от часове, минути и секунди.\n",
    "\n",
    "Например\n",
    "* 3661 -> (1, 1, 1), понеже 3661 секунди са 1hr 1min 1sec.\n",
    "* 86399 -> (23, 59, 59), понеже 86399 секунди са 23hr 59min 59sec.\n",
    "и т.н."
   ]
  },
  {
   "cell_type": "code",
   "execution_count": null,
   "metadata": {},
   "outputs": [],
   "source": [
    "def seconds_to_time(seconds):\n",
    "    pass  # write your code here\n",
    "\n",
    "\n",
    "print(seconds_to_time(0) == (0, 0, 0))\n",
    "print(seconds_to_time(1) == (0, 0, 1))\n",
    "print(seconds_to_time(69) == (0, 1, 9))\n",
    "print(seconds_to_time(420) == (0, 7, 0))\n",
    "print(seconds_to_time(3661) == (1, 1, 1))\n",
    "print(seconds_to_time(86399) == (23, 59, 59))"
   ]
  },
  {
   "cell_type": "markdown",
   "metadata": {},
   "source": [
    "## Задача 2\n",
    "\n",
    "Създайте функция, която да връща броя на гласните в даден текст (нека за улеснение считаме за гласни само `a`, `e`, `i`, `o`, `u`)."
   ]
  },
  {
   "cell_type": "code",
   "execution_count": null,
   "metadata": {},
   "outputs": [],
   "source": [
    "def number_of_vowels(text):\n",
    "    pass  # write your code here\n",
    "\n",
    "\n",
    "print(number_of_vowels(\"grrrrgh!\") == 0)\n",
    "print(number_of_vowels(\"The quick brown fox jumps over the lazy dog.\") == 11)\n",
    "print(number_of_vowels(\"MONTHY PYTHON\") == 2)"
   ]
  },
  {
   "cell_type": "markdown",
   "metadata": {},
   "source": [
    "## Задача 3\n",
    "\n",
    "Създайте функция, която проверява дали дадено българско ЕГН е [валидно](https://bg.wikipedia.org/wiki/Единен_граждански_номер#Структура).\n",
    "\n",
    "По-конкретно, функцията трябва:\n",
    "* да има за първи задължителен параметър ЕГН-то (очаква се да е `str`, но може да се опитате и да го направите да работи едновременно и за `str`, и за `int`).\n",
    "* да има именован параметър `bypass_checksum`, който по подразбиране е `False`. Ако е `True`, функцията трябва да НЕ проверява валидността на последната цифра, а да я счита за валидна по подразбиране.\n",
    "* да връща `True` ако ЕГН-то е валидно, `False` в противен случай. За валидно ЕГН се смята такова, при което:\n",
    "    * цифрите за месец и ден съответстват на валидна дата. Това означава цифрите на месеца да са в интервала [1, 12] за хора, родени 1900-2000г. и в интервала [41, 52] за хора, родени след 2000г., като пожелание може да проверявате и за интервала [21, 32] за хора, родени преди 1900г.\n",
    "    * Ако `bypass_checksum` e `False`, то последната 1 цифра трябва да е валиден checksum на останалите. Алгоритъмът за изчисляване на последната цифра може да намерите [тук](https://bg.wikipedia.org/wiki/Единен_граждански_номер#Структура)."
   ]
  },
  {
   "cell_type": "code",
   "execution_count": null,
   "metadata": {},
   "outputs": [],
   "source": [
    "def is_valid_UCN(ucn, *, bypass_checksum=False):\n",
    "    pass  # write your code here\n",
    "\n",
    "print(is_valid_UCN(\"6101057509\") == True)\n",
    "print(is_valid_UCN(\"6101057500\", bypass_checksum=True) == True)\n",
    "print(is_valid_UCN(\"6101057500\") == False)\n",
    "print(is_valid_UCN(\"6913136669\") == False)"
   ]
  }
 ],
 "metadata": {
  "language_info": {
   "name": "python"
  }
 },
 "nbformat": 4,
 "nbformat_minor": 2
}
