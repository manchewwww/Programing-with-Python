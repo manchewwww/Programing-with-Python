{
  "cells": [
    {
      "cell_type": "markdown",
      "metadata": {
        "colab_type": "text",
        "id": "view-in-github"
      },
      "source": [
        "<a href=\"https://colab.research.google.com/github/fmipython/PythonCourse2022/blob/main/03%20-%20OOP/03%20-%20OOP.ipynb\" target=\"_parent\"><img src=\"https://colab.research.google.com/assets/colab-badge.svg\" alt=\"Open In Colab\"/></a>"
      ]
    },
    {
      "cell_type": "markdown",
      "metadata": {
        "id": "CWl7FSnPMeK9"
      },
      "source": [
        "## Задача 1\n",
        "\n",
        "Дефинирайте клас `Player`, който да моделира играч от RPG игра. Трябва да има следните атрибути и техните условия към тях:\n",
        "\n",
        "  * `name` - име на играча (read-only)\n",
        "  * `hp` - жизнени точки на играча (да не могат да падат под 0, по подразбиране са 10)\n",
        "  * `xp` - опит на играча (да може само да бъде увеличаван, по подразбиране е 0)\n",
        "  * `level` - ниво на играча (read-only), зависи от `xp` по формулата: \n",
        "    * $ level = 1 $, ако `xp` е по-малко от 300;\n",
        "    * $ level = 2 + \\log_2 int(\\frac{xp}{300}) $, иначе.\n",
        "    \n",
        "  (т.е. 0-299 XP са ниво 1, 300-599 XP са ниво 2, 600-1199 XP са ниво 3, 1200-2399 са ниво 4 и т.н.)\n",
        "\n",
        "Имате свобода при имплементацията на класа, стига горните атрибути да съществуват и условията им да са винаги изпълнени.\n",
        "\n",
        "*Note*: за $ log_2 $ може да използвате `math.log2`. Функцията `int` в горната формула е аналогична на конструктора на `int` в Python, както и на `floor` функцията, т.е. закръглянето към цяло число е винаги надолу."
      ]
    },
    {
      "cell_type": "markdown",
      "metadata": {
        "id": "aVBHpVFzMeK9"
      },
      "source": [
        "## Задача 2\n",
        "\n",
        "Дефинирайте клас `Vector3D`, който да репрезентира вектор в тримерното пространство. Класът трябва да има поне следните методи:\n",
        "\n",
        "  * `__init__(self, x, y, z)`: инициализира вектора със стойности `x`, `y` и `z`\n",
        "  * `__repr__(self)`: връща репрезентация на обекта\n",
        "  * `__str__(self)`: връща стрингово представяне на вектора във формат `\"(x, y, z)\"` (например, `\"(1, 2, 3)\"`)\n",
        "  * `__add__(self, other)`: връща сумата на два вектора (или на вектор (вляво) с число (вдясно))\n",
        "    за целите на задачата, нека дефинираме:\n",
        "    * сума на вектор $ v = (v_x, v_y, v_z) $ с вектор $ u = (u_x, u_y, u_z) $ като $ u + v = (v_x + u_x, v_y + u_y, v_z + u_z) $\n",
        "    * сума на вектор $ v = (v_x, v_y, v_z) $ с число $ \\lambda $ като $ u + \\lambda = (v_x + \\lambda, v_y + \\lambda, v_z + \\lambda) $\n",
        "  * `__radd__(self, other)`: връща сумата на число (в ляво) с вектор (в дясно)\n",
        "  * `__iadd__(self, other)`: прибавя `other` към `self` и връща `self`\n",
        "  * `__mul__(self, other)`: връща \"произведение\", дефинирано по следния начин:\n",
        "    * произведението $ v * u $ на два вектора $ v = (v_x, v_y, v_z) $ и $ u = (u_x, u_y, u_z) $ като $ v * u = (v_x u_x, v_y u_y, v_z u_z) $\n",
        "    * произведението $ v * \\lambda $ на вектора $ v = (v_x, v_y, v_z) $ и числото $ \\lambda $ като $ v * \\lambda = (v_x \\lambda, v_y \\lambda, v_z \\lambda) $\n",
        "  * `__rmul__(self, other)`: връща произведението (както е дефинирано горе) на число с вектор\n",
        "  * `__imul__(self, other)`: умножава `other` към `self` и връща `self`\n",
        "  * `__eq__(self, other)`: връща `True`, ако два вектора са поелементно равни, и `False` в противен случай\n",
        "  * `__ne__(self, other)`: връща обратното на `__eq__`\n",
        "  * `__abs__(self)`: връща дължината на вектора (по формулата $ \\sqrt{x^2 + y^2 + z^2} $ )\n",
        "  * `__getattr__(self, name)`: пренасочва `X`, `Y` и `Z` към `x`, `y` и `z` (например `vector.X` да е еквивалентно на `vector.x`)\n",
        "  * `__setattr__(self, name, value)`, аналогичен на горния\n",
        "  * `__iter__(self)`: връща итератор на вектора, който да позволява итериране в реда `x`, `y`, `z`.\n",
        "\n",
        "Добавете още каквито методи смятате за нужни.\n",
        "\n",
        "*Note 1*: нека в контекста на задачата за скалари смятаме `int`, `float` и `complex`.\n",
        "\n",
        "*Note 2*: корен квадратен може да изчислите с `math.sqrt` или като повдигнете нещо на степен 0.5.\n",
        "\n",
        "*Note 3*: понеже още не сме учили грешки и изключения, не се очаква да хвърляте такива в случай, че някой аргумент е невалиден. Очаква се обаче поне където се налага да проверите за това. Ако не ви се разучава как да `raise`-нете `TypeError`, `AttributeError` или `ValueError`, може вместо това да `return`-нете `None` за сега."
      ]
    },
    {
      "cell_type": "markdown",
      "metadata": {
        "id": "GedvERJXMeK9"
      },
      "source": [
        "## Задача 3\n",
        "\n",
        "В тази задача ще направим мини-framework за чертане на UI в конзолата.\n",
        "\n",
        "С цел той да бъде декларативен и лесно композируем, всички елементи трябва да имат метод `render()`, който да връща `str` със съдържанието на елемента.\n",
        "\n",
        "Различните елементи могат да биват:\n",
        "\n",
        "* `Spacer(length=1)`: празно място с дадена дължина (`length` на брой интервали)\n",
        "* `Line(length, symbol=\"-\")`: ред от символи с дадена дължина (примерно `Line(10).render()` трябва да върне `\"----------\"`)\n",
        "* `Text(text)`: текст със съдържание `text`\n",
        "* `FancyText(text, symbol=\"=\")`: текст със съдържание `text`, между всeки символ на който има сложен `symbol`, както и в началото и в края му (примерно `FancyText(\"Hello\").render()` трябва да върне `\"=H=e=l=l=o=\"`)\n",
        "* `HorizontalStack(*elements)`: елементи, подредени един до друг в ред (слепени на реда / разделени чрез \"\") (примерно `HorizontalStack(Text(\"Hello\"), Line(3), Text(\"World\")).render()` трябва да върне `\"Hello---World\"`)\n",
        "* `VerticalStack(*elements)`: елементи, подредени един под друг (разделени чрез симвла за празен ред) (примерно `VerticalStack(Text(\"Hello\"), Line(3), Text(\"World\")).render()` трябва да върне `\"Hello\\n---\\nWorld\"`)\n",
        "* `Box(width, *elements)`: елемент, който е като `VerticalStack`, с разликата че:\n",
        "    * преди и след `elements` добавя `HorizontalStack(Text(\"+\"), Line(width - 2, symbol=\"=\"), Text(\"+\"))`\n",
        "    * всеки ред е с дължина `width` и започва и завършва с `\"|\"`, т.е. при `render()`-ването на всеки елемент от `elements` добавя `Text(\"|\")` в началото и в края на реда. В случай, че дължината на реда е повече от `width` отрязва излишъка от подадения елемент, a в случай, че дължината е по-малка - добавя `Spacer` след елемента с дължина `width - len(element.render()) - 2`.\n",
        "* `ProgressBar(length, progress)`: прогрес бар с дължина `length` символа и коефициент на запълване `progress` ($ \\in [0, 1] $) (примерно `ProgressBar(10, 0.5).render()` трябва да върне `\"[====----]\"`)\n",
        "\n",
        "Добавяйте каквито прецените други класове и методи към тях.\n",
        "\n",
        "#### Пример\n",
        "\n",
        "```python\n",
        "ui = Box(19,\n",
        "    FancyText(\"WELCOME!\"),\n",
        "    Spacer(),\n",
        "    Text(\"Loading packages:THIS SHOULD NOT BE SHOWN IN THE BOX\"),\n",
        "    HorizontalStack(\n",
        "        Line(3),\n",
        "        Spacer(),\n",
        "        Text(\"cowsay\")\n",
        "    ),\n",
        "    HorizontalStack(\n",
        "        Line(3),\n",
        "        Spacer(),\n",
        "        Text(\"lolcat\")\n",
        "    ),\n",
        "    HorizontalStack(\n",
        "        Line(3, symbol=\">\"),\n",
        "        Spacer(),\n",
        "        Text(\"whoami\"),\n",
        "        Text(\"...\")\n",
        "    ),\n",
        "    Spacer(),\n",
        "    HorizontalStack(\n",
        "        Spacer(),\n",
        "        ProgressBar(15, 0.4),\n",
        "        Spacer()\n",
        "    )\n",
        ")\n",
        "\n",
        "print(ui.render())\n",
        "```\n",
        "\n",
        "Изход:\n",
        "```\n",
        "+=================+\n",
        "|=W=E=L=C=O=M=E=!=|\n",
        "|                 |\n",
        "|Loading packages:|\n",
        "|--- cowsay       |\n",
        "|--- lolcat       |\n",
        "|>>> whoami...    |\n",
        "|                 |\n",
        "| [======-------] |\n",
        "+=================+\n",
        "```"
      ]
    }
  ],
  "metadata": {
    "colab": {
      "include_colab_link": true,
      "provenance": []
    },
    "kernelspec": {
      "display_name": "Python 3 (ipykernel)",
      "language": "python",
      "name": "python3"
    },
    "language_info": {
      "codemirror_mode": {
        "name": "ipython",
        "version": 3
      },
      "file_extension": ".py",
      "mimetype": "text/x-python",
      "name": "python",
      "nbconvert_exporter": "python",
      "pygments_lexer": "ipython3",
      "version": "3.10.6"
    },
    "vscode": {
      "interpreter": {
        "hash": "b0fa6594d8f4cbf19f97940f81e996739fb7646882a419484c72d19e05852a7e"
      }
    }
  },
  "nbformat": 4,
  "nbformat_minor": 0
}
